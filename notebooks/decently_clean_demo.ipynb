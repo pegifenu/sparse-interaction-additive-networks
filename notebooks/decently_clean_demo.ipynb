{
 "cells": [
  {
   "cell_type": "code",
   "execution_count": 1,
   "id": "b8a87752-0405-4d78-baee-2d4ce89317f1",
   "metadata": {},
   "outputs": [],
   "source": [
    "import os\n",
    "import copy\n",
    "import time\n",
    "import pickle\n",
    "import sys\n",
    "\n",
    "import torch\n",
    "import numpy as np\n",
    "import matplotlib.pyplot as plt\n",
    "import pandas as pd\n",
    "\n",
    "from sian.utils import gettimestamp\n",
    "from sian.data import Final_TabularDataset\n",
    "from sian.models import TrainingArgs\n",
    "\n",
    "from sian.fis import layerwise_FIS_Hyperparameters, batchwise_FIS_Hyperparameters\n",
    "from sian.interpret import unmasked_FID_Hyperparameters, masked_FID_Hyperparameters\n",
    "from sian import initalize_the_explainer\n",
    "\n",
    "from sian import train_mlp_final, do_the_fis_final, train_sian_final #steps 1, 2, and 3\n",
    "from sian.interpret import plot_all_GAM_functions #step 4\n",
    "\n",
    "\n",
    "%load_ext autoreload\n",
    "%autoreload 2"
   ]
  },
  {
   "cell_type": "code",
   "execution_count": null,
   "id": "ab8b7637-5da3-4f91-8f00-0841b2d3c2d1",
   "metadata": {},
   "outputs": [],
   "source": [
    "BS = 32\n",
    "# EP = 100\n",
    "EP = 10\n",
    "LR = 5e-3\n",
    "\n",
    "if True:\n",
    "    dataset_str = \"UCI_275_bike_sharing_dataset\"\n",
    "    preproc_owner = \"SIAN2022\"\n",
    "if False:\n",
    "    dataset_str = \"UCI_186_wine_quality\"\n",
    "    preproc_owner = \"SIAN2022\"\n",
    "if False:\n",
    "    dataset_str = \"UCI_2_adults_dataset\"\n",
    "    preproc_owner = \"InstaSHAP2025\"\n",
    "if False:\n",
    "    dataset_str = \"UCI_31_tree_cover_type_dataset\"\n",
    "    preproc_owner = \"InstaSHAP2025\"\n",
    "\n",
    "\n",
    "data_base_path = \"../data/\"\n",
    "load_dataset_path = data_base_path\n",
    "save_dataset_path = data_base_path+dataset_str+\"/\"\n",
    "\n",
    "device = torch.device(\"cuda\" if torch.cuda.is_available() else \"cpu\")\n",
    "mlp_training_args = TrainingArgs(BS, EP, LR, device)\n",
    "sian_training_args = TrainingArgs(BS, EP, LR, device)\n",
    "\n",
    "\n",
    "\n",
    "\n",
    "is_masked_mlp = True;  is_masked_sian = True;\n",
    "# is_masked_mlp = False; is_masked_sian = False;\n",
    "\n",
    "FIS_style = 'batchwise'\n",
    "# FIS_style = 'layerwise'    \n",
    "\n",
    "MAX_K = None\n",
    "MAX_K = 3\n",
    "MAX_K = 2 \n"
   ]
  },
  {
   "cell_type": "code",
   "execution_count": null,
   "id": "1161654d-d2b3-4da7-854d-ad86b1165047",
   "metadata": {},
   "outputs": [],
   "source": [
    "\n",
    "results_path = \"results/\"\n",
    "exp_datetimestr = gettimestamp()\n",
    "exp_folder = results_path+exp_datetimestr +'_'+ \"demo\" +'_simple_testing/'\n",
    "if not os.path.exists(exp_folder):\n",
    "    os.makedirs(exp_folder)\n",
    "print(exp_folder)"
   ]
  },
  {
   "cell_type": "code",
   "execution_count": null,
   "id": "c7c397f0-7cff-4b82-897f-badc6f184bff",
   "metadata": {},
   "outputs": [],
   "source": [
    "\n",
    "if True: #DEFAULT MODEL PARAMETRIZATION\n",
    "    mlp_training_args.model_config.net_name = \"MLP\"\n",
    "    mlp_training_args.model_config.sizes = [-1, 256, 128, 64, -1]\n",
    "    mlp_training_args.model_config.is_masked = is_masked_mlp\n",
    "    mlp_training_args.saving_settings.exp_folder = exp_folder\n",
    "    \n",
    "    sian_training_args.model_config.net_name = \"SIAN-K\"\n",
    "    sian_training_args.model_config.sizes = [-1, 256, 128, 64, -1]\n",
    "    sian_training_args.model_config.small_sizes = [-1, 32, 24, 16, -1]\n",
    "    sian_training_args.model_config.is_masked = is_masked_sian\n",
    "    sian_training_args.saving_settings.exp_folder = exp_folder"
   ]
  },
  {
   "cell_type": "code",
   "execution_count": null,
   "id": "033484da-0c72-46c8-961b-c1ab3a3bfbe0",
   "metadata": {},
   "outputs": [],
   "source": [
    "dataset_obj = \\\n",
    "    Final_TabularDataset(dataset_str, preproc_owner=preproc_owner,\n",
    "                       load_dataset_path=load_dataset_path, \n",
    "                       save_dataset_path=save_dataset_path)     \n"
   ]
  },
  {
   "cell_type": "code",
   "execution_count": null,
   "id": "5cfbb45a-bb6d-4caa-a40d-bd55bf92a4f5",
   "metadata": {},
   "outputs": [],
   "source": [
    "D = dataset_obj.get_D()\n",
    "readable_labels = dataset_obj.get_readable_labels()\n",
    "print(readable_labels)"
   ]
  },
  {
   "cell_type": "markdown",
   "id": "afcd133d-5788-4816-ac14-7af18b38c47b",
   "metadata": {},
   "source": [
    "# SIAN Step 1: Train Masked MLP"
   ]
  },
  {
   "cell_type": "code",
   "execution_count": null,
   "id": "5b91631f-4efb-43ae-a135-1e208254018c",
   "metadata": {
    "scrolled": true
   },
   "outputs": [],
   "source": [
    "mlp_results = train_mlp_final(dataset_obj, mlp_training_args)\n",
    "trained_mlp = mlp_results[\"trained_mlp\"]\n",
    "val_tensor = mlp_results[\"val_tensor\"]\n"
   ]
  },
  {
   "cell_type": "markdown",
   "id": "359c745d-3e8c-458d-a8d8-3c54c3417db7",
   "metadata": {},
   "source": [
    "# SIAN Step 2: Masked Archipelago FIS"
   ]
  },
  {
   "cell_type": "markdown",
   "id": "66a5af08-5a1b-49d1-ad2a-d419d9dbd6ec",
   "metadata": {},
   "source": [
    "### setup FID hypers"
   ]
  },
  {
   "cell_type": "code",
   "execution_count": null,
   "id": "e0c5a6da-d6e3-421f-b77c-d6fde580062f",
   "metadata": {},
   "outputs": [],
   "source": [
    "\n",
    "output_type = \"regression\"  #TODO: can set to classification when masking version has support (not sobol version)\n",
    "grouped_features_dict = dataset_obj.get_grouped_feature_dict()\n",
    "if is_masked_mlp: \n",
    "    fid_masking_style = \"masking_based\"\n",
    "    score_type_name = \"new_arch_inter_sobol_score\"\n",
    "    inc_rem_pel_list = ['inc_inter_sobol_score', 'rem_inter_sobol_score', 'new_arch_inter_sobol_score',] #NOTE: only for batchwise plots\n",
    "    fis_valX = val_tensor\n",
    "\n",
    "    my_FID_hypers = masked_FID_Hyperparameters(fid_masking_style, output_type, score_type_name, inc_rem_pel_list,\n",
    "                                               grouped_features_dict)\n",
    "else:    \n",
    "    fid_masking_style = \"triangle_marginal\"\n",
    "    score_type_name = \"old_arch_inter_score\"\n",
    "    inc_rem_pel_list = ['inc_inter_score', 'rem_inter_score', 'old_arch_inter_score',] #NOTE: only for batchwise plots\n",
    "    fis_valX = val_tensor.detach().cpu().numpy()\n",
    "    \n",
    "    my_FID_hypers = unmasked_FID_Hyperparameters(fid_masking_style, output_type, score_type_name, inc_rem_pel_list,\n",
    "                                               device, grouped_features_dict)\n"
   ]
  },
  {
   "cell_type": "markdown",
   "id": "a0c876ff-5a78-48be-9761-9abfe6046106",
   "metadata": {},
   "source": [
    "### setup FIS hypers"
   ]
  },
  {
   "cell_type": "code",
   "execution_count": null,
   "id": "6c802158-6bf1-42bb-a7fb-f89ed7e0dac2",
   "metadata": {},
   "outputs": [],
   "source": [
    "\n",
    "if FIS_style==\"batchwise\":\n",
    "    max_number_of_rounds = 5\n",
    "    inters_per_round = 1\n",
    "    tau_tup=(1.0,0.5,0.33)\n",
    "    \n",
    "    tau_thresholds = {}\n",
    "    for k in range(MAX_K): #NOTE: no good MAX_K = None support yet\n",
    "        tau_thresholds[k+1] = tau_tup[k]\n",
    "    \n",
    "    my_FIS_hypers = batchwise_FIS_Hyperparameters(MAX_K, tau_thresholds, max_number_of_rounds, inters_per_round,\n",
    "                   # jam_arch, \n",
    "                   None, \n",
    "                   tuples_initialization=None,pick_underlings=False,fill_underlings=False,PLOTTING=True)\n",
    "\n",
    "elif FIS_style==\"layerwise\":\n",
    "\n",
    "    theta_percentile_mode=True\n",
    "    theta_tup=(0.8,0.4,0.2)\n",
    "    tau_tup=(1.0,0.5,0.33)\n",
    "    \n",
    "    tau_thresholds, theta_thresholds = {}, {}\n",
    "    for k in range(MAX_K):\n",
    "        tau_thresholds[k+1] = tau_tup[k]\n",
    "        theta_thresholds[k+1] = theta_tup[k]\n",
    "\n",
    "    my_FIS_hypers = layerwise_FIS_Hyperparameters(MAX_K, tau_thresholds, theta_thresholds, \n",
    "                   # jam_arch, \n",
    "                   None, \n",
    "                   theta_percentile_mode=theta_percentile_mode)\n",
    "else:\n",
    "    raise Exception(f\"FIS_style={FIS_style} not recognized\")\n"
   ]
  },
  {
   "cell_type": "markdown",
   "id": "354c4c8e-d2d6-476a-bacf-362d04f98709",
   "metadata": {},
   "source": [
    "### finalize the FID and FIS hypers"
   ]
  },
  {
   "cell_type": "code",
   "execution_count": null,
   "id": "702be33e-110b-4551-afcf-aeb967911890",
   "metadata": {},
   "outputs": [],
   "source": [
    "jam_arch = initalize_the_explainer(trained_mlp, my_FID_hypers)\n",
    "my_FIS_hypers.add_the_explainer(jam_arch)"
   ]
  },
  {
   "cell_type": "markdown",
   "id": "191681e7-9614-4dd5-81cc-35c6ac5f255a",
   "metadata": {},
   "source": [
    "### run the actual FIS"
   ]
  },
  {
   "cell_type": "code",
   "execution_count": null,
   "id": "ab48258e-3f46-4570-80e3-4842db412431",
   "metadata": {
    "scrolled": true
   },
   "outputs": [],
   "source": [
    "FIS_algorithm_start_time = time.time()\n",
    "FIS_interactions = do_the_fis_final(my_FIS_hypers, fis_valX, AGG_K=100)\n",
    "FIS_algorithm_time_taken = time.time() - FIS_algorithm_start_time\n",
    "print(\"FIS_algorithm_time_taken\",FIS_algorithm_time_taken)"
   ]
  },
  {
   "cell_type": "markdown",
   "id": "f837d7ab-063b-414a-8eb0-73b073337947",
   "metadata": {},
   "source": [
    "# SIAN Step 3: Train the InstaSHAP GAM"
   ]
  },
  {
   "cell_type": "code",
   "execution_count": null,
   "id": "f6e054b1-aac2-41d9-a544-65ee32ccca72",
   "metadata": {},
   "outputs": [],
   "source": [
    "print(\"FIS_interactions\")\n",
    "print(FIS_interactions)"
   ]
  },
  {
   "cell_type": "code",
   "execution_count": null,
   "id": "3da9a73b-aab4-4d84-885e-522fbbad41d4",
   "metadata": {
    "scrolled": true
   },
   "outputs": [],
   "source": [
    "sian_training_args.model_config.FIS_interactions = FIS_interactions\n",
    "sian_results = train_sian_final(dataset_obj, sian_training_args)\n",
    "trained_sian = sian_results[\"trained_sian\"]\n",
    "val_tensor = sian_results[\"val_tensor\"]\n"
   ]
  },
  {
   "cell_type": "markdown",
   "id": "fdaf6065-78a7-45b7-a553-315e8f92ee09",
   "metadata": {},
   "source": [
    "# SIAN Step 4: Plotting Learned Shapes"
   ]
  },
  {
   "cell_type": "code",
   "execution_count": null,
   "id": "b9e90514-04a6-4cae-a60f-b2da49bdec01",
   "metadata": {
    "scrolled": true
   },
   "outputs": [],
   "source": [
    "full_readable_labels = dataset_obj.get_full_readable_labels()\n",
    "plot_all_GAM_functions(trained_sian.cpu(), val_tensor.detach().cpu().numpy(),     full_readable_labels)\n"
   ]
  },
  {
   "cell_type": "code",
   "execution_count": null,
   "id": "f5a12b8e-3447-411b-b24b-9d04ad753b2e",
   "metadata": {},
   "outputs": [],
   "source": [
    "pass"
   ]
  },
  {
   "cell_type": "code",
   "execution_count": null,
   "id": "20dff782-59ac-4d16-b2f9-a85c04ac5e83",
   "metadata": {},
   "outputs": [],
   "source": []
  }
 ],
 "metadata": {
  "kernelspec": {
   "display_name": ".venv",
   "language": "python",
   "name": "python3"
  },
  "language_info": {
   "codemirror_mode": {
    "name": "ipython",
    "version": 3
   },
   "file_extension": ".py",
   "mimetype": "text/x-python",
   "name": "python",
   "nbconvert_exporter": "python",
   "pygments_lexer": "ipython3",
   "version": "3.13.1"
  }
 },
 "nbformat": 4,
 "nbformat_minor": 5
}
